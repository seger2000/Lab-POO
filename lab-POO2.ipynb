{
 "cells": [
  {
   "cell_type": "code",
   "execution_count": 60,
   "id": "convenient-whole",
   "metadata": {},
   "outputs": [],
   "source": [
    "#PRoblema monitor \n",
    "class monitor():\n",
    "    def __init__(self,color,dimensions,resolution):\n",
    "        self.color = color\n",
    "        self.dimensions = dimensions\n",
    "        self.resolution = resolution\n",
    "    def monitor_print(self):\n",
    "        print(self.color,self.dimensions, self.resolution)\n",
    "    def co(self):\n",
    "        return self.color\n",
    "    def dim(self):\n",
    "        return self.dimensions\n",
    "    def res(self):\n",
    "        return self.resolution\n",
    "        "
   ]
  },
  {
   "cell_type": "code",
   "execution_count": 83,
   "id": "structured-merchandise",
   "metadata": {},
   "outputs": [],
   "source": [
    "monitor1 = monitor('verde',15.5,720)"
   ]
  },
  {
   "cell_type": "code",
   "execution_count": 84,
   "id": "rental-programming",
   "metadata": {},
   "outputs": [],
   "source": [
    "monitor2 = monitor('rosu',15.5,720)"
   ]
  },
  {
   "cell_type": "code",
   "execution_count": 85,
   "id": "related-procedure",
   "metadata": {},
   "outputs": [
    {
     "data": {
      "text/plain": [
       "15.5"
      ]
     },
     "execution_count": 85,
     "metadata": {},
     "output_type": "execute_result"
    }
   ],
   "source": [
    "monitor1.dim()"
   ]
  },
  {
   "cell_type": "code",
   "execution_count": 89,
   "id": "solved-underground",
   "metadata": {},
   "outputs": [
    {
     "name": "stdout",
     "output_type": "stream",
     "text": [
      "Parametri sunt egali \n"
     ]
    }
   ],
   "source": [
    "if monitor1.co() != monitor2.co() and monitor1.dim() == monitor2.dim() and monitor1.res() == monitor2.res() :\n",
    "    print(\"Parametri sunt egali \")\n",
    "else:\n",
    "    print(\"PArametri nu sunt egali\")"
   ]
  },
  {
   "cell_type": "code",
   "execution_count": 1,
   "id": "actual-writing",
   "metadata": {},
   "outputs": [],
   "source": [
    "#problema Universitate, Student, media\n",
    "class student:\n",
    "    def __init__(self,nume_stud,varsta,nota):\n",
    "        self.nume_stud = nume_stud\n",
    "        self.varsta = varsta\n",
    "        self.nota = nota "
   ]
  },
  {
   "cell_type": "code",
   "execution_count": 2,
   "id": "photographic-diary",
   "metadata": {},
   "outputs": [],
   "source": [
    "class universitate:\n",
    "    def __init__(self,nume,anul_fondare,list_student: list):\n",
    "        self.nume = nume\n",
    "        self.anul_fondare = anul_fondare\n",
    "        self.list_student = list_student   "
   ]
  },
  {
   "cell_type": "code",
   "execution_count": 5,
   "id": "metropolitan-monitor",
   "metadata": {},
   "outputs": [],
   "source": [
    "def universit_new():\n",
    "    list_universitate = 0,[]\n",
    "    list_universitate=list()\n",
    "    n = int(input(\"NR de univer : \"))\n",
    "    nota_med=0\n",
    "    for i in range(0,n):\n",
    "        nume = input(\"Introduceti numele universitati \")\n",
    "        anul_fondare = int(input(\"Anul fondari\"))\n",
    "        list_stud = 0,[]\n",
    "        list_stud = list()\n",
    "        m = int(input(f\"NR de studenti pentru universitate {nume}\"))\n",
    "        for j in range(0,m):\n",
    "            nume_stud = input(\" Nume si prenume student :\")\n",
    "            varsta = input(\"Varsta student :\")\n",
    "            nota = float(input(\"Nota medie : \"))\n",
    "            list_stud.append(student(nume_stud, varsta, nota))\n",
    "        list_universitate.append(universitate(nume,anul_fondare,list_stud))\n",
    "        for i in list_universitate:\n",
    "            print(f\"{i.nume} fondata in anul {i.anul_fondare} \")\n",
    "            print(f\"<---{i.nume} are studenti cu datele : --->\")\n",
    "            for j in i.list_student:\n",
    "                print(f\"{j.nume_stud} este sca are {j.varsta} ani si nota medie {j.nota}\")\n",
    "            for k in i.list_student:\n",
    "                nota_med+=k.nota\n",
    "            nota_med=nota_med/len(i.list_student)\n",
    "            print(f\"Nota medie peentru universitatea {i.nume} este {nota_med}\")\n",
    "        "
   ]
  },
  {
   "cell_type": "code",
   "execution_count": 6,
   "id": "supposed-modification",
   "metadata": {},
   "outputs": [
    {
     "name": "stdin",
     "output_type": "stream",
     "text": [
      "NR de univer :  1\n",
      "Introduceti numele universitati  utm\n",
      "Anul fondari 1964\n",
      "NR de studenti pentru universitate utm 2\n",
      " Nume si prenume student : pere\n",
      "Varsta student : 21\n",
      "Nota medie :  9\n",
      " Nume si prenume student : mere\n",
      "Varsta student : 20\n",
      "Nota medie :  9\n"
     ]
    },
    {
     "name": "stdout",
     "output_type": "stream",
     "text": [
      "utm fondata in anul 1964 \n",
      "<---utm are studenti cu datele : --->\n",
      "pere este sca are 21 ani si nota medie 9.0\n",
      "mere este sca are 20 ani si nota medie 9.0\n",
      "Nota medie peentru universitatea utm este 9.0\n"
     ]
    }
   ],
   "source": [
    "universit_new()"
   ]
  },
  {
   "cell_type": "code",
   "execution_count": null,
   "id": "artistic-conviction",
   "metadata": {},
   "outputs": [],
   "source": []
  }
 ],
 "metadata": {
  "kernelspec": {
   "display_name": "Python 3",
   "language": "python",
   "name": "python3"
  },
  "language_info": {
   "codemirror_mode": {
    "name": "ipython",
    "version": 3
   },
   "file_extension": ".py",
   "mimetype": "text/x-python",
   "name": "python",
   "nbconvert_exporter": "python",
   "pygments_lexer": "ipython3",
   "version": "3.8.2"
  }
 },
 "nbformat": 4,
 "nbformat_minor": 5
}
